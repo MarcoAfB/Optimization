{
 "cells": [
  {
   "cell_type": "code",
   "execution_count": 1,
   "metadata": {},
   "outputs": [],
   "source": [
    "import numpy  as np\n",
    "import matplotlib.pyplot as plt"
   ]
  },
  {
   "cell_type": "code",
   "execution_count": 2,
   "metadata": {},
   "outputs": [],
   "source": [
    "def bracket_livro(x, y, k = 2, l_r=None, x1=None, x2=None):\n",
    "\n",
    "    # Iniciar coordenadas caso não sejão específicadas \n",
    "    if x1==None:\n",
    "        x1 = x[0]\n",
    "    if x2==None:\n",
    "        x2 = x[-1]\n",
    "\n",
    "    # Iniciar o parâmetro condizente ao tamanho do passo\n",
    "    if l_r == None:\n",
    "        l_r = 0.01\n",
    "\n",
    "    if y(x1) > y(x2):\n",
    "        x1 = x2\n",
    "\n",
    "    # Variável auxiliar \n",
    "    xx2 = x2\n",
    "    while True:\n",
    "        # Executando os passos\n",
    "        xx2 = xx2 - xx2 * l_r\n",
    "\n",
    "        ''' Se o passo atual resulta em uma função \n",
    "        maior que a anterior a otimização é encerrada'''\n",
    "        if y(x2) <= y(xx2):\n",
    "            x2 = xx2\n",
    "\n",
    "            # Case para retornar a sequencia menor para maior\n",
    "            if x1 > x2:\n",
    "                return x2, x1\n",
    "            return x1, x2\n",
    "        \n",
    "        x2 = xx2"
   ]
  }
 ],
 "metadata": {
  "kernelspec": {
   "display_name": "env",
   "language": "python",
   "name": "python3"
  },
  "language_info": {
   "codemirror_mode": {
    "name": "ipython",
    "version": 3
   },
   "file_extension": ".py",
   "mimetype": "text/x-python",
   "name": "python",
   "nbconvert_exporter": "python",
   "pygments_lexer": "ipython3",
   "version": "3.12.0"
  }
 },
 "nbformat": 4,
 "nbformat_minor": 2
}
